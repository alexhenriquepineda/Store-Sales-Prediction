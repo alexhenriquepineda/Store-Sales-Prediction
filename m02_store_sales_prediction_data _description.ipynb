{
 "cells": [
  {
   "cell_type": "markdown",
   "id": "c078b048",
   "metadata": {},
   "source": [
    "# IMPORTS"
   ]
  },
  {
   "cell_type": "code",
   "execution_count": 27,
   "id": "4b8778bd",
   "metadata": {
    "ExecuteTime": {
     "end_time": "2021-09-04T00:24:42.544352Z",
     "start_time": "2021-09-04T00:24:42.536472Z"
    }
   },
   "outputs": [],
   "source": [
    "import math\n",
    "import inflection\n",
    "\n",
    "import numpy as np\n",
    "import pandas as pd\n",
    "import seaborn as sns\n",
    "\n",
    "from matplotlib import pyplot as plt\n",
    "from IPython.core.display  import HTML"
   ]
  },
  {
   "cell_type": "markdown",
   "id": "cdf12c20",
   "metadata": {},
   "source": [
    "## Helper Function"
   ]
  },
  {
   "cell_type": "code",
   "execution_count": 28,
   "id": "c6b3a209",
   "metadata": {
    "ExecuteTime": {
     "end_time": "2021-09-04T00:24:43.040343Z",
     "start_time": "2021-09-04T00:24:43.011635Z"
    }
   },
   "outputs": [
    {
     "name": "stdout",
     "output_type": "stream",
     "text": [
      "Populating the interactive namespace from numpy and matplotlib\n"
     ]
    },
    {
     "data": {
      "text/html": [
       "<style>.container { width:100% !important; }</style>"
      ],
      "text/plain": [
       "<IPython.core.display.HTML object>"
      ]
     },
     "metadata": {},
     "output_type": "display_data"
    }
   ],
   "source": [
    "def jupyter_settings():\n",
    "    %matplotlib inline\n",
    "    %pylab inline\n",
    "    plt.style.use( 'bmh' )\n",
    "    plt.rcParams['figure.figsize'] = [25, 12]\n",
    "    plt.rcParams['font.size'] = 24\n",
    "    display( HTML( '<style>.container { width:100% !important; }</style>') )\n",
    "    pd.options.display.max_columns = None\n",
    "    pd.options.display.max_rows = None\n",
    "    pd.set_option( 'display.expand_frame_repr', False )\n",
    "    sns.set()\n",
    "    \n",
    "jupyter_settings()"
   ]
  },
  {
   "cell_type": "markdown",
   "id": "f652ec27",
   "metadata": {},
   "source": [
    "## Loading Data"
   ]
  },
  {
   "cell_type": "code",
   "execution_count": 2,
   "id": "474104a5",
   "metadata": {
    "ExecuteTime": {
     "end_time": "2021-09-04T00:00:26.270437Z",
     "start_time": "2021-09-04T00:00:25.342006Z"
    }
   },
   "outputs": [],
   "source": [
    "df_sales_raw = pd.read_csv('datasets/train.csv', low_memory=False)\n",
    "df_store_raw = pd.read_csv('datasets/store.csv', low_memory=False)\n",
    "\n",
    "#merge\n",
    "\n",
    "df_raw = pd.merge(df_sales_raw, df_store_raw, how='left', on='Store')"
   ]
  },
  {
   "cell_type": "markdown",
   "id": "edbe003a",
   "metadata": {},
   "source": [
    "# DATA DESCRIPTION"
   ]
  },
  {
   "cell_type": "code",
   "execution_count": 3,
   "id": "e68e1666",
   "metadata": {
    "ExecuteTime": {
     "end_time": "2021-09-04T00:00:26.496403Z",
     "start_time": "2021-09-04T00:00:26.271918Z"
    }
   },
   "outputs": [],
   "source": [
    "df1 = df_raw.copy()"
   ]
  },
  {
   "cell_type": "markdown",
   "id": "4bcf6740",
   "metadata": {},
   "source": [
    "## Rename Columns"
   ]
  },
  {
   "cell_type": "code",
   "execution_count": 4,
   "id": "9dd83f5e",
   "metadata": {
    "ExecuteTime": {
     "end_time": "2021-09-04T00:00:26.502043Z",
     "start_time": "2021-09-04T00:00:26.497503Z"
    }
   },
   "outputs": [],
   "source": [
    "cols_old = ['Store', 'DayOfWeek', 'Date', 'Sales', 'Customers', 'Open', 'Promo',\n",
    "       'StateHoliday', 'SchoolHoliday', 'StoreType', 'Assortment',\n",
    "       'CompetitionDistance', 'CompetitionOpenSinceMonth',\n",
    "       'CompetitionOpenSinceYear', 'Promo2', 'Promo2SinceWeek',\n",
    "       'Promo2SinceYear', 'PromoInterval']\n",
    "\n",
    "snakecase = lambda x: inflection.underscore( x )\n",
    "\n",
    "cols_new = list(map(snakecase, cols_old))\n",
    "df1.columns = cols_new"
   ]
  },
  {
   "cell_type": "markdown",
   "id": "762908ce",
   "metadata": {},
   "source": [
    "## Data Dimension"
   ]
  },
  {
   "cell_type": "code",
   "execution_count": 5,
   "id": "9e23ff1c",
   "metadata": {
    "ExecuteTime": {
     "end_time": "2021-09-04T00:00:27.504960Z",
     "start_time": "2021-09-04T00:00:27.502224Z"
    }
   },
   "outputs": [
    {
     "name": "stdout",
     "output_type": "stream",
     "text": [
      "Number of rows: 1017209\n",
      "Number of columns: 18\n"
     ]
    }
   ],
   "source": [
    "print(f'Number of rows: {df1.shape[0]}')\n",
    "print(f'Number of columns: {df1.shape[1]}')"
   ]
  },
  {
   "cell_type": "markdown",
   "id": "4298cf10",
   "metadata": {},
   "source": [
    "## Data Types "
   ]
  },
  {
   "cell_type": "code",
   "execution_count": 6,
   "id": "ba111b91",
   "metadata": {
    "ExecuteTime": {
     "end_time": "2021-09-04T00:00:28.222805Z",
     "start_time": "2021-09-04T00:00:28.195941Z"
    }
   },
   "outputs": [
    {
     "data": {
      "text/plain": [
       "store                             int64\n",
       "day_of_week                       int64\n",
       "date                             object\n",
       "sales                             int64\n",
       "customers                         int64\n",
       "open                              int64\n",
       "promo                             int64\n",
       "state_holiday                    object\n",
       "school_holiday                    int64\n",
       "store_type                       object\n",
       "assortment                       object\n",
       "competition_distance            float64\n",
       "competition_open_since_month    float64\n",
       "competition_open_since_year     float64\n",
       "promo2                            int64\n",
       "promo2_since_week               float64\n",
       "promo2_since_year               float64\n",
       "promo_interval                   object\n",
       "dtype: object"
      ]
     },
     "execution_count": 6,
     "metadata": {},
     "output_type": "execute_result"
    }
   ],
   "source": [
    "df1.dtypes"
   ]
  },
  {
   "cell_type": "code",
   "execution_count": 7,
   "id": "1a179e0a",
   "metadata": {
    "ExecuteTime": {
     "end_time": "2021-09-04T00:00:28.530601Z",
     "start_time": "2021-09-04T00:00:28.407253Z"
    }
   },
   "outputs": [],
   "source": [
    "df1['date'] = pd.to_datetime(df1['date'])"
   ]
  },
  {
   "cell_type": "markdown",
   "id": "638e5c09",
   "metadata": {},
   "source": [
    "## Check NA"
   ]
  },
  {
   "cell_type": "code",
   "execution_count": 8,
   "id": "f69196cc",
   "metadata": {
    "ExecuteTime": {
     "end_time": "2021-09-04T00:00:29.427634Z",
     "start_time": "2021-09-04T00:00:29.270666Z"
    }
   },
   "outputs": [
    {
     "data": {
      "text/plain": [
       "store                                0\n",
       "day_of_week                          0\n",
       "date                                 0\n",
       "sales                                0\n",
       "customers                            0\n",
       "open                                 0\n",
       "promo                                0\n",
       "state_holiday                        0\n",
       "school_holiday                       0\n",
       "store_type                           0\n",
       "assortment                           0\n",
       "competition_distance              2642\n",
       "competition_open_since_month    323348\n",
       "competition_open_since_year     323348\n",
       "promo2                               0\n",
       "promo2_since_week               508031\n",
       "promo2_since_year               508031\n",
       "promo_interval                  508031\n",
       "dtype: int64"
      ]
     },
     "execution_count": 8,
     "metadata": {},
     "output_type": "execute_result"
    }
   ],
   "source": [
    "df1.isna().sum()"
   ]
  },
  {
   "cell_type": "markdown",
   "id": "8db2765b",
   "metadata": {},
   "source": [
    "## Fillout NA "
   ]
  },
  {
   "cell_type": "code",
   "execution_count": 9,
   "id": "8f0838c1",
   "metadata": {
    "ExecuteTime": {
     "end_time": "2021-09-04T00:00:31.716448Z",
     "start_time": "2021-09-04T00:00:31.696136Z"
    }
   },
   "outputs": [
    {
     "data": {
      "text/html": [
       "<div>\n",
       "<style scoped>\n",
       "    .dataframe tbody tr th:only-of-type {\n",
       "        vertical-align: middle;\n",
       "    }\n",
       "\n",
       "    .dataframe tbody tr th {\n",
       "        vertical-align: top;\n",
       "    }\n",
       "\n",
       "    .dataframe thead th {\n",
       "        text-align: right;\n",
       "    }\n",
       "</style>\n",
       "<table border=\"1\" class=\"dataframe\">\n",
       "  <thead>\n",
       "    <tr style=\"text-align: right;\">\n",
       "      <th></th>\n",
       "      <th>store</th>\n",
       "      <th>day_of_week</th>\n",
       "      <th>date</th>\n",
       "      <th>sales</th>\n",
       "      <th>customers</th>\n",
       "      <th>open</th>\n",
       "      <th>promo</th>\n",
       "      <th>state_holiday</th>\n",
       "      <th>school_holiday</th>\n",
       "      <th>store_type</th>\n",
       "      <th>assortment</th>\n",
       "      <th>competition_distance</th>\n",
       "      <th>competition_open_since_month</th>\n",
       "      <th>competition_open_since_year</th>\n",
       "      <th>promo2</th>\n",
       "      <th>promo2_since_week</th>\n",
       "      <th>promo2_since_year</th>\n",
       "      <th>promo_interval</th>\n",
       "    </tr>\n",
       "  </thead>\n",
       "  <tbody>\n",
       "    <tr>\n",
       "      <th>0</th>\n",
       "      <td>1</td>\n",
       "      <td>5</td>\n",
       "      <td>2015-07-31</td>\n",
       "      <td>5263</td>\n",
       "      <td>555</td>\n",
       "      <td>1</td>\n",
       "      <td>1</td>\n",
       "      <td>0</td>\n",
       "      <td>1</td>\n",
       "      <td>c</td>\n",
       "      <td>a</td>\n",
       "      <td>1270.0</td>\n",
       "      <td>9.0</td>\n",
       "      <td>2008.0</td>\n",
       "      <td>0</td>\n",
       "      <td>NaN</td>\n",
       "      <td>NaN</td>\n",
       "      <td>NaN</td>\n",
       "    </tr>\n",
       "    <tr>\n",
       "      <th>1</th>\n",
       "      <td>2</td>\n",
       "      <td>5</td>\n",
       "      <td>2015-07-31</td>\n",
       "      <td>6064</td>\n",
       "      <td>625</td>\n",
       "      <td>1</td>\n",
       "      <td>1</td>\n",
       "      <td>0</td>\n",
       "      <td>1</td>\n",
       "      <td>a</td>\n",
       "      <td>a</td>\n",
       "      <td>570.0</td>\n",
       "      <td>11.0</td>\n",
       "      <td>2007.0</td>\n",
       "      <td>1</td>\n",
       "      <td>13.0</td>\n",
       "      <td>2010.0</td>\n",
       "      <td>Jan,Apr,Jul,Oct</td>\n",
       "    </tr>\n",
       "    <tr>\n",
       "      <th>2</th>\n",
       "      <td>3</td>\n",
       "      <td>5</td>\n",
       "      <td>2015-07-31</td>\n",
       "      <td>8314</td>\n",
       "      <td>821</td>\n",
       "      <td>1</td>\n",
       "      <td>1</td>\n",
       "      <td>0</td>\n",
       "      <td>1</td>\n",
       "      <td>a</td>\n",
       "      <td>a</td>\n",
       "      <td>14130.0</td>\n",
       "      <td>12.0</td>\n",
       "      <td>2006.0</td>\n",
       "      <td>1</td>\n",
       "      <td>14.0</td>\n",
       "      <td>2011.0</td>\n",
       "      <td>Jan,Apr,Jul,Oct</td>\n",
       "    </tr>\n",
       "    <tr>\n",
       "      <th>3</th>\n",
       "      <td>4</td>\n",
       "      <td>5</td>\n",
       "      <td>2015-07-31</td>\n",
       "      <td>13995</td>\n",
       "      <td>1498</td>\n",
       "      <td>1</td>\n",
       "      <td>1</td>\n",
       "      <td>0</td>\n",
       "      <td>1</td>\n",
       "      <td>c</td>\n",
       "      <td>c</td>\n",
       "      <td>620.0</td>\n",
       "      <td>9.0</td>\n",
       "      <td>2009.0</td>\n",
       "      <td>0</td>\n",
       "      <td>NaN</td>\n",
       "      <td>NaN</td>\n",
       "      <td>NaN</td>\n",
       "    </tr>\n",
       "    <tr>\n",
       "      <th>4</th>\n",
       "      <td>5</td>\n",
       "      <td>5</td>\n",
       "      <td>2015-07-31</td>\n",
       "      <td>4822</td>\n",
       "      <td>559</td>\n",
       "      <td>1</td>\n",
       "      <td>1</td>\n",
       "      <td>0</td>\n",
       "      <td>1</td>\n",
       "      <td>a</td>\n",
       "      <td>a</td>\n",
       "      <td>29910.0</td>\n",
       "      <td>4.0</td>\n",
       "      <td>2015.0</td>\n",
       "      <td>0</td>\n",
       "      <td>NaN</td>\n",
       "      <td>NaN</td>\n",
       "      <td>NaN</td>\n",
       "    </tr>\n",
       "  </tbody>\n",
       "</table>\n",
       "</div>"
      ],
      "text/plain": [
       "   store  day_of_week       date  sales  customers  open  promo state_holiday  \\\n",
       "0      1            5 2015-07-31   5263        555     1      1             0   \n",
       "1      2            5 2015-07-31   6064        625     1      1             0   \n",
       "2      3            5 2015-07-31   8314        821     1      1             0   \n",
       "3      4            5 2015-07-31  13995       1498     1      1             0   \n",
       "4      5            5 2015-07-31   4822        559     1      1             0   \n",
       "\n",
       "   school_holiday store_type assortment  competition_distance  \\\n",
       "0               1          c          a                1270.0   \n",
       "1               1          a          a                 570.0   \n",
       "2               1          a          a               14130.0   \n",
       "3               1          c          c                 620.0   \n",
       "4               1          a          a               29910.0   \n",
       "\n",
       "   competition_open_since_month  competition_open_since_year  promo2  \\\n",
       "0                           9.0                       2008.0       0   \n",
       "1                          11.0                       2007.0       1   \n",
       "2                          12.0                       2006.0       1   \n",
       "3                           9.0                       2009.0       0   \n",
       "4                           4.0                       2015.0       0   \n",
       "\n",
       "   promo2_since_week  promo2_since_year   promo_interval  \n",
       "0                NaN                NaN              NaN  \n",
       "1               13.0             2010.0  Jan,Apr,Jul,Oct  \n",
       "2               14.0             2011.0  Jan,Apr,Jul,Oct  \n",
       "3                NaN                NaN              NaN  \n",
       "4                NaN                NaN              NaN  "
      ]
     },
     "execution_count": 9,
     "metadata": {},
     "output_type": "execute_result"
    }
   ],
   "source": [
    "df1.head()"
   ]
  },
  {
   "cell_type": "code",
   "execution_count": 10,
   "id": "6bcaa712",
   "metadata": {
    "ExecuteTime": {
     "end_time": "2021-09-04T00:01:39.012374Z",
     "start_time": "2021-09-04T00:00:52.757713Z"
    }
   },
   "outputs": [],
   "source": [
    "#competition_distance \n",
    "    #para os valores NaN, aplica o valor 200.000\n",
    "df1['competition_distance'] = df1['competition_distance'].apply(lambda x: 200000 if math.isnan(x) else x)\n",
    "\n",
    "#competition_open_since_month \n",
    "    #para os valores NaN substituir pela coluna da data respectiva\n",
    "df1['competition_open_since_month'] = df1.apply(lambda x: x['date'].month if math.isnan(x['competition_open_since_month']) else x['competition_open_since_month'], axis=1)\n",
    "\n",
    "#competition_open_since_year\n",
    "df1['competition_open_since_year'] = df1.apply(lambda x: x['date'].year if math.isnan(x['competition_open_since_year']) else x['competition_open_since_year'], axis=1)\n",
    "\n",
    "#promo2_since_week   \n",
    "df1['promo2_since_week'] = df1.apply(lambda x: x['date'].week if math.isnan(x['promo2_since_week']) else x['promo2_since_week'], axis=1)\n",
    "\n",
    "#promo2_since_year \n",
    "df1['promo2_since_year'] = df1.apply(lambda x: x['date'].year if math.isnan(x['promo2_since_year']) else x['promo2_since_year'], axis=1)\n",
    "\n",
    "#promo_interval      \n",
    "month_map = {1: 'Jan', 2: 'Fev', 3: 'Mar', 4: 'Apr', 5: 'Jan', 6: 'Jan', 7: 'Jan', 8: 'Jan', 9: 'Jan', 10: 'Jan', 11: 'Jan', 12: 'Jan'}\n",
    "\n",
    "df1['promo_interval'].fillna(0, inplace=True)\n",
    "df1['month_map'] = df1['date'].dt.month.map(month_map)\n",
    "\n",
    "df1['is_promo'] = df1[['promo_interval', 'month_map']].apply(lambda x: 0 if x['promo_interval'] == 0 else 1 if x['month_map'] in x['promo_interval'].split(',') else 0, axis=1)"
   ]
  },
  {
   "cell_type": "markdown",
   "id": "735f2d15",
   "metadata": {},
   "source": [
    "## Change Dtypes"
   ]
  },
  {
   "cell_type": "code",
   "execution_count": 18,
   "id": "52eca5a5",
   "metadata": {
    "ExecuteTime": {
     "end_time": "2021-09-04T00:11:57.081180Z",
     "start_time": "2021-09-04T00:11:57.076665Z"
    }
   },
   "outputs": [
    {
     "data": {
      "text/plain": [
       "store                                    int64\n",
       "day_of_week                              int64\n",
       "date                            datetime64[ns]\n",
       "sales                                    int64\n",
       "customers                                int64\n",
       "open                                     int64\n",
       "promo                                    int64\n",
       "state_holiday                           object\n",
       "school_holiday                           int64\n",
       "store_type                              object\n",
       "assortment                              object\n",
       "competition_distance                   float64\n",
       "competition_open_since_month             int64\n",
       "competition_open_since_year              int64\n",
       "promo2                                   int64\n",
       "promo2_since_week                        int64\n",
       "promo2_since_year                        int64\n",
       "promo_interval                          object\n",
       "month_map                               object\n",
       "is_promo                                 int64\n",
       "dtype: object"
      ]
     },
     "execution_count": 18,
     "metadata": {},
     "output_type": "execute_result"
    }
   ],
   "source": [
    "df1.dtypes"
   ]
  },
  {
   "cell_type": "code",
   "execution_count": 15,
   "id": "92d1d3dd",
   "metadata": {
    "ExecuteTime": {
     "end_time": "2021-09-04T00:08:29.217125Z",
     "start_time": "2021-09-04T00:08:29.183955Z"
    }
   },
   "outputs": [],
   "source": [
    "df1['competition_open_since_month'] = df1['competition_open_since_month'].astype( int )\n",
    "df1['competition_open_since_year'] = df1['competition_open_since_year'].astype( int )\n",
    "df1['promo2_since_week'] = df1['promo2_since_week'].astype( int )\n",
    "df1['promo2_since_year'] = df1['promo2_since_year'].astype( int )"
   ]
  },
  {
   "cell_type": "markdown",
   "id": "1e926a73",
   "metadata": {},
   "source": [
    "## Descriptive Statistical"
   ]
  },
  {
   "cell_type": "markdown",
   "id": "245f2390",
   "metadata": {},
   "source": [
    "### Numerical Attributes"
   ]
  },
  {
   "cell_type": "code",
   "execution_count": 21,
   "id": "a3fad712",
   "metadata": {
    "ExecuteTime": {
     "end_time": "2021-09-04T00:12:31.183220Z",
     "start_time": "2021-09-04T00:12:28.805891Z"
    }
   },
   "outputs": [
    {
     "data": {
      "text/html": [
       "<div>\n",
       "<style scoped>\n",
       "    .dataframe tbody tr th:only-of-type {\n",
       "        vertical-align: middle;\n",
       "    }\n",
       "\n",
       "    .dataframe tbody tr th {\n",
       "        vertical-align: top;\n",
       "    }\n",
       "\n",
       "    .dataframe thead th {\n",
       "        text-align: right;\n",
       "    }\n",
       "</style>\n",
       "<table border=\"1\" class=\"dataframe\">\n",
       "  <thead>\n",
       "    <tr style=\"text-align: right;\">\n",
       "      <th></th>\n",
       "      <th>attributes</th>\n",
       "      <th>min</th>\n",
       "      <th>max</th>\n",
       "      <th>range</th>\n",
       "      <th>mean</th>\n",
       "      <th>median</th>\n",
       "      <th>std</th>\n",
       "      <th>skew</th>\n",
       "      <th>kurtosis</th>\n",
       "    </tr>\n",
       "  </thead>\n",
       "  <tbody>\n",
       "    <tr>\n",
       "      <th>0</th>\n",
       "      <td>store</td>\n",
       "      <td>1.00</td>\n",
       "      <td>1115.00</td>\n",
       "      <td>1114.00</td>\n",
       "      <td>558.43</td>\n",
       "      <td>558.00</td>\n",
       "      <td>321.91</td>\n",
       "      <td>-0.00</td>\n",
       "      <td>-1.20</td>\n",
       "    </tr>\n",
       "    <tr>\n",
       "      <th>1</th>\n",
       "      <td>day_of_week</td>\n",
       "      <td>1.00</td>\n",
       "      <td>7.00</td>\n",
       "      <td>6.00</td>\n",
       "      <td>4.00</td>\n",
       "      <td>4.00</td>\n",
       "      <td>2.00</td>\n",
       "      <td>0.00</td>\n",
       "      <td>-1.25</td>\n",
       "    </tr>\n",
       "    <tr>\n",
       "      <th>2</th>\n",
       "      <td>sales</td>\n",
       "      <td>0.00</td>\n",
       "      <td>41551.00</td>\n",
       "      <td>41551.00</td>\n",
       "      <td>5773.82</td>\n",
       "      <td>5744.00</td>\n",
       "      <td>3849.92</td>\n",
       "      <td>0.64</td>\n",
       "      <td>1.78</td>\n",
       "    </tr>\n",
       "    <tr>\n",
       "      <th>3</th>\n",
       "      <td>customers</td>\n",
       "      <td>0.00</td>\n",
       "      <td>7388.00</td>\n",
       "      <td>7388.00</td>\n",
       "      <td>633.15</td>\n",
       "      <td>609.00</td>\n",
       "      <td>464.41</td>\n",
       "      <td>1.60</td>\n",
       "      <td>7.09</td>\n",
       "    </tr>\n",
       "    <tr>\n",
       "      <th>4</th>\n",
       "      <td>open</td>\n",
       "      <td>0.00</td>\n",
       "      <td>1.00</td>\n",
       "      <td>1.00</td>\n",
       "      <td>0.83</td>\n",
       "      <td>1.00</td>\n",
       "      <td>0.38</td>\n",
       "      <td>-1.76</td>\n",
       "      <td>1.09</td>\n",
       "    </tr>\n",
       "    <tr>\n",
       "      <th>5</th>\n",
       "      <td>promo</td>\n",
       "      <td>0.00</td>\n",
       "      <td>1.00</td>\n",
       "      <td>1.00</td>\n",
       "      <td>0.38</td>\n",
       "      <td>0.00</td>\n",
       "      <td>0.49</td>\n",
       "      <td>0.49</td>\n",
       "      <td>-1.76</td>\n",
       "    </tr>\n",
       "    <tr>\n",
       "      <th>6</th>\n",
       "      <td>school_holiday</td>\n",
       "      <td>0.00</td>\n",
       "      <td>1.00</td>\n",
       "      <td>1.00</td>\n",
       "      <td>0.18</td>\n",
       "      <td>0.00</td>\n",
       "      <td>0.38</td>\n",
       "      <td>1.68</td>\n",
       "      <td>0.82</td>\n",
       "    </tr>\n",
       "    <tr>\n",
       "      <th>7</th>\n",
       "      <td>competition_distance</td>\n",
       "      <td>20.00</td>\n",
       "      <td>200000.00</td>\n",
       "      <td>199980.00</td>\n",
       "      <td>5935.44</td>\n",
       "      <td>2330.00</td>\n",
       "      <td>12547.65</td>\n",
       "      <td>10.24</td>\n",
       "      <td>147.79</td>\n",
       "    </tr>\n",
       "    <tr>\n",
       "      <th>8</th>\n",
       "      <td>competition_open_since_month</td>\n",
       "      <td>1.00</td>\n",
       "      <td>12.00</td>\n",
       "      <td>11.00</td>\n",
       "      <td>6.79</td>\n",
       "      <td>7.00</td>\n",
       "      <td>3.31</td>\n",
       "      <td>-0.04</td>\n",
       "      <td>-1.23</td>\n",
       "    </tr>\n",
       "    <tr>\n",
       "      <th>9</th>\n",
       "      <td>competition_open_since_year</td>\n",
       "      <td>1900.00</td>\n",
       "      <td>2015.00</td>\n",
       "      <td>115.00</td>\n",
       "      <td>2010.32</td>\n",
       "      <td>2012.00</td>\n",
       "      <td>5.52</td>\n",
       "      <td>-7.24</td>\n",
       "      <td>124.07</td>\n",
       "    </tr>\n",
       "    <tr>\n",
       "      <th>10</th>\n",
       "      <td>promo2</td>\n",
       "      <td>0.00</td>\n",
       "      <td>1.00</td>\n",
       "      <td>1.00</td>\n",
       "      <td>0.50</td>\n",
       "      <td>1.00</td>\n",
       "      <td>0.50</td>\n",
       "      <td>-0.00</td>\n",
       "      <td>-2.00</td>\n",
       "    </tr>\n",
       "    <tr>\n",
       "      <th>11</th>\n",
       "      <td>promo2_since_week</td>\n",
       "      <td>1.00</td>\n",
       "      <td>52.00</td>\n",
       "      <td>51.00</td>\n",
       "      <td>23.62</td>\n",
       "      <td>22.00</td>\n",
       "      <td>14.31</td>\n",
       "      <td>0.18</td>\n",
       "      <td>-1.18</td>\n",
       "    </tr>\n",
       "    <tr>\n",
       "      <th>12</th>\n",
       "      <td>promo2_since_year</td>\n",
       "      <td>2009.00</td>\n",
       "      <td>2015.00</td>\n",
       "      <td>6.00</td>\n",
       "      <td>2012.79</td>\n",
       "      <td>2013.00</td>\n",
       "      <td>1.66</td>\n",
       "      <td>-0.78</td>\n",
       "      <td>-0.21</td>\n",
       "    </tr>\n",
       "    <tr>\n",
       "      <th>13</th>\n",
       "      <td>is_promo</td>\n",
       "      <td>0.00</td>\n",
       "      <td>1.00</td>\n",
       "      <td>1.00</td>\n",
       "      <td>0.24</td>\n",
       "      <td>0.00</td>\n",
       "      <td>0.43</td>\n",
       "      <td>1.22</td>\n",
       "      <td>-0.51</td>\n",
       "    </tr>\n",
       "  </tbody>\n",
       "</table>\n",
       "</div>"
      ],
      "text/plain": [
       "                      attributes     min       max     range    mean  median  \\\n",
       "0                          store    1.00   1115.00   1114.00  558.43  558.00   \n",
       "1                    day_of_week    1.00      7.00      6.00    4.00    4.00   \n",
       "2                          sales    0.00  41551.00  41551.00 5773.82 5744.00   \n",
       "3                      customers    0.00   7388.00   7388.00  633.15  609.00   \n",
       "4                           open    0.00      1.00      1.00    0.83    1.00   \n",
       "5                          promo    0.00      1.00      1.00    0.38    0.00   \n",
       "6                 school_holiday    0.00      1.00      1.00    0.18    0.00   \n",
       "7           competition_distance   20.00 200000.00 199980.00 5935.44 2330.00   \n",
       "8   competition_open_since_month    1.00     12.00     11.00    6.79    7.00   \n",
       "9    competition_open_since_year 1900.00   2015.00    115.00 2010.32 2012.00   \n",
       "10                        promo2    0.00      1.00      1.00    0.50    1.00   \n",
       "11             promo2_since_week    1.00     52.00     51.00   23.62   22.00   \n",
       "12             promo2_since_year 2009.00   2015.00      6.00 2012.79 2013.00   \n",
       "13                      is_promo    0.00      1.00      1.00    0.24    0.00   \n",
       "\n",
       "        std  skew  kurtosis  \n",
       "0    321.91 -0.00     -1.20  \n",
       "1      2.00  0.00     -1.25  \n",
       "2   3849.92  0.64      1.78  \n",
       "3    464.41  1.60      7.09  \n",
       "4      0.38 -1.76      1.09  \n",
       "5      0.49  0.49     -1.76  \n",
       "6      0.38  1.68      0.82  \n",
       "7  12547.65 10.24    147.79  \n",
       "8      3.31 -0.04     -1.23  \n",
       "9      5.52 -7.24    124.07  \n",
       "10     0.50 -0.00     -2.00  \n",
       "11    14.31  0.18     -1.18  \n",
       "12     1.66 -0.78     -0.21  \n",
       "13     0.43  1.22     -0.51  "
      ]
     },
     "execution_count": 21,
     "metadata": {},
     "output_type": "execute_result"
    }
   ],
   "source": [
    "pd.set_option('display.float_format', lambda x: '%.2f' % x)\n",
    "num_attributes = df1.select_dtypes(include=['int64', 'float64'])\n",
    "\n",
    "#Central Tendecy - média e mediana\n",
    "ct1 = pd.DataFrame( num_attributes.apply( np.mean ) ).T\n",
    "ct2 = pd.DataFrame( num_attributes.apply( np.median ) ).T\n",
    "\n",
    "#Dispersion - desvio, min, max, range, skew, kurtosis\n",
    "d1 = pd.DataFrame( num_attributes.apply( np.std ) ).T\n",
    "d2 = pd.DataFrame( num_attributes.apply( min ) ).T\n",
    "d3 = pd.DataFrame( num_attributes.apply( max ) ).T\n",
    "d4 = pd.DataFrame( num_attributes.apply( lambda x: x.max() - x.min() ) ).T\n",
    "d5 = pd.DataFrame( num_attributes.apply( lambda x: x.skew() ) ).T\n",
    "d6 = pd.DataFrame( num_attributes.apply( lambda x: x.kurtosis() ) ).T\n",
    "\n",
    "#concat\n",
    "m = pd.concat( [d2, d3, d4, ct1, ct2, d1, d5, d6]).T.reset_index()\n",
    "m.columns = ['attributes', 'min','max','range','mean','median','std','skew','kurtosis']\n",
    "m"
   ]
  },
  {
   "cell_type": "markdown",
   "id": "bde791b8",
   "metadata": {},
   "source": [
    "### Categorical Attributes"
   ]
  },
  {
   "cell_type": "code",
   "execution_count": 24,
   "id": "d935e034",
   "metadata": {
    "ExecuteTime": {
     "end_time": "2021-09-04T00:19:50.625633Z",
     "start_time": "2021-09-04T00:19:50.595779Z"
    }
   },
   "outputs": [],
   "source": [
    "cat_attributes = df1.select_dtypes(exclude=['int64', 'float64', 'datetime64[ns]'])"
   ]
  },
  {
   "cell_type": "code",
   "execution_count": null,
   "id": "39e3e446",
   "metadata": {
    "ExecuteTime": {
     "start_time": "2021-09-04T00:44:21.859Z"
    }
   },
   "outputs": [],
   "source": [
    "aux1 = df1[(df1['state_holiday'] != '0') & (df1['sales'] > 0)]\n",
    "\n",
    "plt.subplot(1, 3, 1)\n",
    "sns.boxplot(x='state_holiday', y='sales', data=aux1)\n",
    "\n",
    "plt.subplot(1, 3, 2)\n",
    "sns.boxplot(x='store_type', y='sales', data=aux1)\n",
    "\n",
    "plt.subplot(1, 3, 3)\n",
    "sns.boxplot(x='assortment', y='sales', data=aux1);"
   ]
  },
  {
   "cell_type": "code",
   "execution_count": null,
   "id": "c705330e",
   "metadata": {},
   "outputs": [],
   "source": []
  }
 ],
 "metadata": {
  "kernelspec": {
   "display_name": "Python 3 (ipykernel)",
   "language": "python",
   "name": "python3"
  },
  "language_info": {
   "codemirror_mode": {
    "name": "ipython",
    "version": 3
   },
   "file_extension": ".py",
   "mimetype": "text/x-python",
   "name": "python",
   "nbconvert_exporter": "python",
   "pygments_lexer": "ipython3",
   "version": "3.8.10"
  },
  "toc": {
   "base_numbering": 1,
   "nav_menu": {},
   "number_sections": true,
   "sideBar": true,
   "skip_h1_title": false,
   "title_cell": "Table of Contents",
   "title_sidebar": "Contents",
   "toc_cell": false,
   "toc_position": {},
   "toc_section_display": true,
   "toc_window_display": false
  }
 },
 "nbformat": 4,
 "nbformat_minor": 5
}
